{
 "cells": [
  {
   "cell_type": "code",
   "execution_count": 15,
   "id": "c899b2d6",
   "metadata": {},
   "outputs": [],
   "source": [
    "import pandas as pd\n",
    "import networkx as nx\n",
    "import matplotlib.pyplot as plt\n",
    "import re\n",
    "from pyvis.network import Network\n",
    "import numpy as np\n",
    "from itertools import combinations\n",
    "from collections import Counter"
   ]
  },
  {
   "cell_type": "code",
   "execution_count": 16,
   "id": "423960fb",
   "metadata": {},
   "outputs": [],
   "source": [
    "congression_num = 109\n",
    "bills_df = pd.read_csv(\"../data/preprocessed/preprocessed_dataset.csv\")\n",
    "bills_df = bills_df[bills_df['congress'] == congression_num]"
   ]
  },
  {
   "cell_type": "code",
   "execution_count": 17,
   "id": "8d9788d5",
   "metadata": {},
   "outputs": [],
   "source": [
    "def convert_string_to_list(array_string):\n",
    "    array_string = str(array_string)\n",
    "    if isinstance(array_string, float) and pd.isna(array_string):\n",
    "        return array_string\n",
    "    # Use regex to find patterns between single or double quotes\n",
    "    pattern = re.compile(r'[\"\\'](.*?)[\"\\']')\n",
    "    elements = pattern.findall(array_string)\n",
    "    # Strip any extraneous spaces or characters\n",
    "    elements = [element.strip() for element in elements]\n",
    "    return elements\n",
    "\n",
    "# Extract subjects\n",
    "bills_df['committees'] = bills_df['committees'].apply(lambda x: convert_string_to_list(x))\n",
    "\n",
    "# Flatten the list of subjects, ignoring NaN values\n",
    "all_committees = [committee for sublist in bills_df['committees'] if isinstance(sublist, list) for committee in sublist]\n",
    "all_committees = list(filter(None, all_committees))\n",
    "\n",
    "# Count the frequency of each subject\n",
    "committee_df = pd.Series(all_committees).value_counts().reset_index()\n",
    "committee_df.columns = ['committee', 'count']\n",
    "committee_df['committee'] = committee_df['committee'].str.strip()\n",
    "committee_df = committee_df[committee_df['committee'].astype(bool)]\n",
    "committee_df.reset_index(drop=True, inplace=True)\n",
    "committee_df.head(10)\n",
    "\n",
    "committee_df.to_csv(f\"../data/network/committee_collaboration_network/committee_counts_{congression_num}.csv\", index = False)"
   ]
  },
  {
   "cell_type": "code",
   "execution_count": 18,
   "id": "a24a7f3d",
   "metadata": {},
   "outputs": [],
   "source": [
    "# Step 1: Extract pairs of committees for each bill\n",
    "committee_pairs = []\n",
    "for committees in bills_df['committees']:\n",
    "    if len(committees) > 1:\n",
    "        committee_pairs.extend(combinations(sorted(committees), 2))\n",
    "\n",
    "# Step 2: Count the occurrences of each pair\n",
    "pair_counts = Counter(committee_pairs)\n",
    "\n",
    "# Step 3: Construct the edgelist DataFrame\n",
    "edgelist_data = {'source': [], 'target': [], 'weight': []}\n",
    "for (source, target), weight in pair_counts.items():\n",
    "    edgelist_data['source'].append(source)\n",
    "    edgelist_data['target'].append(target)\n",
    "    edgelist_data['weight'].append(weight)\n",
    "\n",
    "edgelist_df = pd.DataFrame(edgelist_data)\n",
    "\n",
    "edgelist_df.to_csv(f\"../data/network/committee_collaboration_network/edgelist_{congression_num}.csv\", index = False)"
   ]
  },
  {
   "cell_type": "code",
   "execution_count": 22,
   "id": "9244ded0",
   "metadata": {},
   "outputs": [
    {
     "name": "stdout",
     "output_type": "stream",
     "text": [
      "Warning: When  cdn_resources is 'local' jupyter notebook has issues displaying graphics on chrome/safari. Use cdn_resources='in_line' or cdn_resources='remote' if you have issues viewing graphics in a notebook.\n",
      "committee_collaboration_network.html\n"
     ]
    },
    {
     "data": {
      "text/html": [
       "\n",
       "        <iframe\n",
       "            width=\"100%\"\n",
       "            height=\"900px\"\n",
       "            src=\"committee_collaboration_network.html\"\n",
       "            frameborder=\"0\"\n",
       "            allowfullscreen\n",
       "            \n",
       "        ></iframe>\n",
       "        "
      ],
      "text/plain": [
       "<IPython.lib.display.IFrame at 0x7f8843ed0250>"
      ]
     },
     "execution_count": 22,
     "metadata": {},
     "output_type": "execute_result"
    }
   ],
   "source": [
    "# Step 4: Create the graph\n",
    "G = nx.Graph()\n",
    "for index, row in edgelist_df.iterrows():\n",
    "    G.add_edge(row['source'], row['target'], weight=np.log1p(row['weight']))  # Apply log transform\n",
    "\n",
    "# Map committee counts to node sizes\n",
    "node_size_map = {}\n",
    "for index, row in committee_df.iterrows():\n",
    "    node_size_map[row['committee']] = np.log1p(row['count']) * 5  # Smaller scale for smaller nodes\n",
    "\n",
    "# Step 5: Create and configure Pyvis network\n",
    "net = Network(notebook=True, height='900px', width='100%', bgcolor='#222222', font_color='white')\n",
    "\n",
    "# Add nodes with sizes based on log-transformed counts\n",
    "for node in G.nodes:\n",
    "    size = node_size_map.get(node, 2)  # Default smaller size if not found in committee_df\n",
    "    net.add_node(node, label=node, title=node, color='#00c0a3', size=size)\n",
    "\n",
    "# Add edges with fixed width\n",
    "for source, target, data in G.edges(data=True):\n",
    "    net.add_edge(source, target, title=f'Weight: {np.exp(data[\"weight\"])-1:.0f}', color='rgba(255, 255, 255, 1)', width=1)\n",
    "\n",
    "# Configure options for a professional look and less dense layout\n",
    "net.set_options(\"\"\"\n",
    "var options = {\n",
    "  \"nodes\": {\n",
    "    \"borderWidth\": 1,\n",
    "    \"borderWidthSelected\": 2,\n",
    "    \"color\": {\n",
    "      \"border\": \"#ffffff\",\n",
    "      \"background\": \"#00c0a3\",\n",
    "      \"highlight\": {\n",
    "        \"border\": \"#ffffff\",\n",
    "        \"background\": \"#ff7f50\"\n",
    "      },\n",
    "      \"hover\": {\n",
    "        \"border\": \"#ffffff\",\n",
    "        \"background\": \"#ff7f50\"\n",
    "      }\n",
    "    },\n",
    "    \"font\": {\n",
    "      \"color\": \"#ffffff\",\n",
    "      \"size\": 24\n",
    "    }\n",
    "  },\n",
    "  \"edges\": {\n",
    "    \"color\": {\n",
    "      \"color\": \"rgba(255, 255, 255, 0.2)\",\n",
    "      \"highlight\": \"#ff7f50\",\n",
    "      \"hover\": \"#ff7f50\"\n",
    "    },\n",
    "    \"smooth\": {\n",
    "      \"type\": \"continuous\"\n",
    "    },\n",
    "    \"width\": 0.5,\n",
    "    \"hoverWidth\": 0.5\n",
    "  },\n",
    "  \"interaction\": {\n",
    "    \"hover\": true,\n",
    "    \"navigationButtons\": true,\n",
    "    \"tooltipDelay\": 200\n",
    "  },\n",
    "  \"physics\": {\n",
    "    \"enabled\": true,\n",
    "    \"repulsion\": {\n",
    "      \"centralGravity\": 0.2,\n",
    "      \"springLength\": 500,\n",
    "      \"springConstant\": 0.05,\n",
    "      \"nodeDistance\": 200,\n",
    "      \"damping\": 0.09\n",
    "    },\n",
    "    \"minVelocity\": 0.75,\n",
    "    \"solver\": \"repulsion\",\n",
    "    \"timestep\": 0.35\n",
    "  }\n",
    "}\n",
    "\"\"\")\n",
    "\n",
    "# Show the network\n",
    "net.show(\"committee_collaboration_network.html\")"
   ]
  },
  {
   "cell_type": "code",
   "execution_count": null,
   "id": "784c5dc4",
   "metadata": {},
   "outputs": [],
   "source": []
  }
 ],
 "metadata": {
  "kernelspec": {
   "display_name": "Python 3 (ipykernel)",
   "language": "python",
   "name": "python3"
  },
  "language_info": {
   "codemirror_mode": {
    "name": "ipython",
    "version": 3
   },
   "file_extension": ".py",
   "mimetype": "text/x-python",
   "name": "python",
   "nbconvert_exporter": "python",
   "pygments_lexer": "ipython3",
   "version": "3.9.18"
  }
 },
 "nbformat": 4,
 "nbformat_minor": 5
}
